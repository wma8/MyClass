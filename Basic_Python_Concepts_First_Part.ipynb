{
 "cells": [
  {
   "cell_type": "markdown",
   "metadata": {},
   "source": [
    "# Python Concepts Review\n",
    "1. Our System will use Python3, and we can execute our program in this Jupyter Notebook Directly.\n",
    "\n",
    "2. This chapter is to review the basic Python skills we need for our courses. If you have any concern, please consult with me OR (The most important skills as a programmer) SEARCH!!!\n",
    "\n",
    "__Syntactic Format Reference Table (Compared with C++):__\n",
    "\n",
    "- ; == (end line)\n",
    "\n",
    "- {} == (indentation)\n",
    "\n",
    "- for (i = 0; i < 10; i++){} == for i in range(10):\n",
    "\n",
    "- if/while(x){} == if/while x:\n",
    "\n",
    "- int fun(){} == def fun():\n",
    "\n",
    "- #include == import\n",
    "\n",
    "- true/false = True/False\n",
    "\n",
    "- // == # \n",
    "\n",
    "- &&， ||， ！ == and, or, not(）\n",
    "\n",
    "- x++ == x=x+1"
   ]
  },
  {
   "cell_type": "markdown",
   "metadata": {},
   "source": [
    "## 1. Variable Types && Comments\n",
    "Python will guess the type when you define the variable.\n",
    "For example, if you set x = 2, then Python will make x an integer. If you set x = 2.0, Python will make it a float.\n",
    "\n",
    "__Python Common Datatypes__\n",
    "- Integers.\n",
    "- Floating-Point Numbers.\n",
    "- Complex Numbers.\n",
    "- Strings. Escape Sequences in Strings. Raw Strings. Triple-Quoted\n",
    "- Strings.\n",
    "- Boolean Type, Boolean Context, and “Truthiness”\n",
    "- Dict\n",
    "- List\n",
    "- etc"
   ]
  },
  {
   "cell_type": "code",
   "execution_count": null,
   "metadata": {
    "scrolled": true
   },
   "outputs": [],
   "source": [
    "x = 1\n",
    "print(type(x))\n",
    "y = \"I love Python\"\n",
    "print(type(y))"
   ]
  },
  {
   "cell_type": "markdown",
   "metadata": {},
   "source": [
    "## Exercises: Predict the type of the following variables\n",
    "\n",
    "- type(1.0)\n",
    "- type(\"My name is Weikun\")\n",
    "- type(True)"
   ]
  },
  {
   "cell_type": "code",
   "execution_count": null,
   "metadata": {},
   "outputs": [],
   "source": [
    "# Solutions\n",
    "print(type(1.0))\n",
    "print(type(\"My name is Weikun\"))\n",
    "print(type(True))"
   ]
  },
  {
   "cell_type": "markdown",
   "metadata": {},
   "source": [
    "## Comment\n",
    "Commenting your code properly will help you and other understand and use it correctly."
   ]
  },
  {
   "cell_type": "code",
   "execution_count": null,
   "metadata": {},
   "outputs": [],
   "source": [
    "# Example, also this is a comment as well\n",
    "print('Before comment')  # this is an inline comment\n",
    "'''\n",
    "This is\n",
    "a multi-line\n",
    "comment\n",
    "'''\n",
    "print('After comment')"
   ]
  },
  {
   "cell_type": "markdown",
   "metadata": {},
   "source": [
    "## 2. Python Common Data Structure"
   ]
  },
  {
   "cell_type": "markdown",
   "metadata": {},
   "source": [
    "## Lists\n",
    "A [**`list`**](http://docs.python.org/2/tutorial/introduction.html#lists) is an ordered ***sequence*** of 0 or more comma-delimited elements enclosed within square brackets ('`[`', '`]`'). \n",
    "\n",
    "Examples:"
   ]
  },
  {
   "cell_type": "code",
   "execution_count": null,
   "metadata": {},
   "outputs": [],
   "source": [
    "s = [1,2,3,4,5,6,7,8]\n",
    "l = ['a','b','c','d','e']\n",
    "print(s)\n",
    "# Following Methods are Not Required to Know\n",
    "print(s[::2])  # print elements in even-numbered positions\n",
    "print(s[1::2])  # print elements in odd-numbered positions\n",
    "print(s[::-1])  # print elements in reverse order\n",
    "print(s[:-4:-1])\n",
    "\n",
    "# Make a list within (1, 7) use list function\n",
    "s2 = list_of_ints = list(range(1,7)) \n",
    "print(s2)"
   ]
  },
  {
   "cell_type": "markdown",
   "metadata": {},
   "source": [
    "__Exercise:__\n",
    "\n",
    "Predict and check the output of the following, assuming that  𝚜 = ['𝚊','𝚋','𝚌','𝚍','𝚎'] + ['𝚏','𝚐']  has been executed. Which of the following will produce different output from the previous exercise, and what will it be?\n",
    "\n",
    "-  print s[0]\n",
    "-  print s[6]\n",
    "-  print s[7]\n",
    "-  print s[-1]\n",
    "-  print s[1:3]\n",
    "-  print s[:3]\n",
    "-  print s[3:]\n",
    "-  print s[0:-2]\n",
    "-  print s[0:100]\n",
    "-  s[0] = 'z'\n",
    "-  s[0:3] = ['x','y','z']\n",
    "-  print(len(s))"
   ]
  },
  {
   "cell_type": "code",
   "execution_count": null,
   "metadata": {
    "scrolled": true
   },
   "outputs": [],
   "source": [
    "# Solutions\n",
    "s = ['a','b','c','d','e']+['f','g']\n",
    "print(s)\n",
    "s[0]=100\n",
    "print(s)\n",
    "print(type(s[0]))\n",
    "s[0:3]=['x','y','z']\n",
    "print(s)\n",
    "# the assignment of element does not have to match the size\n",
    "s[0:3]=['x','y','z','s','e','e'] #note the effect of this: replace the elements within range, \n",
    "#concatenate the rest elements after it\n",
    "print(s)"
   ]
  },
  {
   "cell_type": "markdown",
   "metadata": {},
   "source": [
    "Lists may also have lists as their elements:\n",
    "Additional Examples:"
   ]
  },
  {
   "cell_type": "code",
   "execution_count": null,
   "metadata": {},
   "outputs": [],
   "source": [
    "K=[[1,2],[3,4,5],'s']\n",
    "print K[0][1] # like index of 2d array in C++\n",
    "print K[0][:]\n",
    "print K[1]\n",
    "print K[2]"
   ]
  },
  {
   "cell_type": "markdown",
   "metadata": {},
   "source": [
    "__List Related Methods__\n",
    "- Remove\n",
    "- Pop\n",
    "- Append\n",
    "- Insert\n",
    "- sort\n",
    "\n",
    "__Examples:__\n"
   ]
  },
  {
   "cell_type": "code",
   "execution_count": null,
   "metadata": {},
   "outputs": [],
   "source": [
    "list_1 = [1, 2, 3, 5, 1]\n",
    "# list_2 now references the same object as list_1\n",
    "list_2 = list_1  \n",
    "\n",
    "print('list_1:', list_1)\n",
    "print('list_2:', list_2)\n",
    "\n",
    "# remove [only] the first occurrence of 1 in list_1\n",
    "list_1.remove(1) \n",
    "print('list_1.remove(1):   ', list_1)\n",
    "\n",
    "# remove the element in position 2\n",
    "list_1.pop(2)  \n",
    "print('list_1.pop(2):      ', list_1)\n",
    "\n",
    "# add 6 to the end of list_1\n",
    "list_1.append(6)  \n",
    "print('list_1.append(6):   ', list_1)\n",
    "\n",
    "# add 7 to the beinning of list_1 (before the element in position 0)\n",
    "list_1.insert(0, 7)  \n",
    "print('list_1.insert(0, 7):', list_1)\n",
    "\n",
    "list_1.sort()\n",
    "print('list_1.sort():      ', list_1)\n",
    "\n",
    "list_1.reverse()\n",
    "print('list_1.reverse():   ', list_1)"
   ]
  },
  {
   "cell_type": "markdown",
   "metadata": {},
   "source": [
    "## Dictionary\n",
    "A dictionary is a set of __keys__ each pointing to a __value__. The list of keys is unique (keys may only point to one value), but values may be reused.\n",
    "__usage__:\n",
    "Dictionary is essential for Web crawler（网络爬虫), so it is __very important__ to master."
   ]
  },
  {
   "cell_type": "markdown",
   "metadata": {},
   "source": [
    "__Examples__:\n",
    "d1 = {1:'Apple', 2:'Banana', 3: 'Apple'}\n",
    "d2 = {1:2, 3:4, 5:6, 7:8}\n",
    "d3 = {'P':'Python', 'J':'JAVA', 'C': 'C plus plus'}"
   ]
  },
  {
   "cell_type": "code",
   "execution_count": null,
   "metadata": {},
   "outputs": [],
   "source": [
    "d1 = {1:'Apple', 2:'Banana', 3: 'Apple'}\n",
    "d2 = {1:2, 3:4, 5:6, 7:8}\n",
    "d3 = {'P':'Python', 'J':'JAVA', 'C': 'C plus plus'}\n",
    "\n",
    "## Index should be the key of the dict\n",
    "print(d1[1])\n",
    "print(d2[3])\n",
    "print(d3['P'])"
   ]
  },
  {
   "cell_type": "markdown",
   "metadata": {},
   "source": [
    "You can also initialize an empty dict and assign values with keys"
   ]
  },
  {
   "cell_type": "code",
   "execution_count": null,
   "metadata": {},
   "outputs": [],
   "source": [
    "d3 = {}\n",
    "d3 =(dict()) # the same expression\n",
    "print(type(d3))\n",
    "d3['A']='apple'\n",
    "d3['B'] = [1,2,3]\n",
    "d3['C'] = {2:1, 3:4}\n",
    "print(d3)"
   ]
  },
  {
   "cell_type": "code",
   "execution_count": null,
   "metadata": {
    "scrolled": true
   },
   "outputs": [],
   "source": [
    "d4 = {'A': 'apple', 'B': [1, 2, 3], 'C': {2: 1, 3: 4}}\n",
    "# You can also use Method --> items() to print all the elements\n",
    "d4.items()"
   ]
  },
  {
   "cell_type": "markdown",
   "metadata": {},
   "source": [
    "# 3. Conditions and Looping"
   ]
  },
  {
   "cell_type": "markdown",
   "metadata": {},
   "source": [
    "__Flow Control__\n",
    "- Straight Line\n",
    "- Simple Conditional\n",
    "- Branch Conditional"
   ]
  },
  {
   "cell_type": "markdown",
   "metadata": {},
   "source": [
    "![title](img/straightline.png)"
   ]
  },
  {
   "cell_type": "code",
   "execution_count": null,
   "metadata": {},
   "outputs": [],
   "source": [
    "# Example\n",
    "a = 1\n",
    "b = 2\n",
    "c = a + b\n",
    "print(c)"
   ]
  },
  {
   "cell_type": "markdown",
   "metadata": {},
   "source": [
    "![title](img/simpleconditional.png)"
   ]
  },
  {
   "cell_type": "code",
   "execution_count": 2,
   "metadata": {},
   "outputs": [
    {
     "name": "stdout",
     "output_type": "stream",
     "text": [
      "41\n",
      "Wow, that’s old!\n",
      "I am 24 years old now\n"
     ]
    }
   ],
   "source": [
    "age = int(input())\n",
    "if age > 30:\n",
    "    print(\"Wow, that’s old!\")\n",
    "print(\"I am 24 years old now\")"
   ]
  },
  {
   "cell_type": "markdown",
   "metadata": {},
   "source": [
    "![title](img/branchcondition.png)"
   ]
  },
  {
   "cell_type": "code",
   "execution_count": 3,
   "metadata": {},
   "outputs": [
    {
     "name": "stdout",
     "output_type": "stream",
     "text": [
      "14\n",
      "It will be much better if you are over 20\n"
     ]
    }
   ],
   "source": [
    "age = int(input())\n",
    "if age > 30:\n",
    "    print(\"Wow, that’s old!\")\n",
    "elif age > 20:\n",
    "    print(\"20s is the best time in life\")\n",
    "else:\n",
    "    print(\"It will be much better if you are over 20\")"
   ]
  },
  {
   "cell_type": "markdown",
   "metadata": {},
   "source": [
    "__More Examples:__\n",
    "What happened with multiple condition?"
   ]
  },
  {
   "cell_type": "code",
   "execution_count": null,
   "metadata": {},
   "outputs": [],
   "source": [
    "x = 0\n",
    "y = 5\n",
    "\n",
    "if x < y:                            # Truthy\n",
    "    print('yes')\n",
    "else:\n",
    "    print('no')\n",
    "\n",
    "if x or y:                           # Truthy\n",
    "    print('yes')\n",
    "    \n",
    "a = 1\n",
    "b = 2\n",
    "\n",
    "if a is 1 and b is 2:\n",
    "    print('a is 1 and b is 2')\n",
    "elif a is 1:\n",
    "    print('a is 1 but b is not 2')\n",
    "else:\n",
    "    print('None of them is right')\n",
    "    \n"
   ]
  },
  {
   "cell_type": "code",
   "execution_count": null,
   "metadata": {},
   "outputs": [],
   "source": [
    "def letterGrade(score):\n",
    "    if score >= 90:\n",
    "        letter = 'A'\n",
    "    else:   # grade must be B, C, D or F\n",
    "        if score >= 80:\n",
    "            letter = 'B'\n",
    "        else:  # grade must be C, D or F\n",
    "            if score >= 70:\n",
    "                letter = 'C'\n",
    "            else:    # grade must D or F\n",
    "                if score >= 60:\n",
    "                    letter = 'D'\n",
    "                else:\n",
    "                    letter = 'F'\n",
    "    return letter\n",
    "print(\"My Grade is 90, and it is \" + letterGrade(90))\n",
    "print(\"My Grade is 89, and it is \" + letterGrade(89))"
   ]
  },
  {
   "cell_type": "markdown",
   "metadata": {},
   "source": [
    "## Exercises"
   ]
  },
  {
   "cell_type": "markdown",
   "metadata": {},
   "source": [
    "1. Write a Python program to determine if numbers are divisible by 7 and multiple of 5 (both included).\n",
    "if it is both true, print both true.\n",
    "if only divisible by 7, print divisible\n",
    "if only multiple of 5\n",
    "if neither is right, print both false."
   ]
  },
  {
   "cell_type": "code",
   "execution_count": null,
   "metadata": {},
   "outputs": [],
   "source": [
    "while True:\n",
    "    temp = int(input())\n",
    "# Write Your Program Here"
   ]
  },
  {
   "cell_type": "markdown",
   "metadata": {},
   "source": []
  },
  {
   "cell_type": "markdown",
   "metadata": {},
   "source": [
    "__We only learn for loop here!__\n",
    "![title](img/iteration.png)"
   ]
  },
  {
   "cell_type": "markdown",
   "metadata": {},
   "source": [
    "__For in Loop__: \n",
    "For loops are used for sequential traversal. For example: traversing a list or string or array etc. In Python, there is no C style for loop, i.e., for (i=0; i<n; i++).\n"
   ]
  },
  {
   "cell_type": "code",
   "execution_count": 1,
   "metadata": {},
   "outputs": [
    {
     "name": "stdout",
     "output_type": "stream",
     "text": [
      "1\n",
      "3\n",
      "5\n",
      "7\n",
      "9\n"
     ]
    }
   ],
   "source": [
    "# Python can do the normal c++ typle forloop in\n",
    "# the following manner\n",
    "# for i in range(start, end, steps)\n",
    "# For example\n",
    "for i in range(1, 10, 2):\n",
    "    print(i)"
   ]
  },
  {
   "cell_type": "markdown",
   "metadata": {},
   "source": [
    "For loop can also traverse the list in java style, but even with\n",
    "multiple elements in the list."
   ]
  },
  {
   "cell_type": "code",
   "execution_count": 3,
   "metadata": {},
   "outputs": [
    {
     "name": "stdout",
     "output_type": "stream",
     "text": [
      "1\n",
      "2\n",
      "3\n",
      "4\n",
      "5\n",
      "6\n"
     ]
    }
   ],
   "source": [
    "# You can print all the elements in the list in the following way\n",
    "list = [1, 2, 3, 4, 5, 6] \n",
    "for index in list: \n",
    "    print(index) "
   ]
  },
  {
   "cell_type": "markdown",
   "metadata": {},
   "source": [
    "## Exercises"
   ]
  },
  {
   "cell_type": "markdown",
   "metadata": {},
   "source": [
    "1. The alternating harmonic series is the above. Write a program that asks\n",
    "the user for a number n and then calculates and prints the sum of\n",
    "the first n terms of the sequence. Try your program with n equal to\n",
    "10, 100, and 1000. Compare to the value of Math.log(2) . Hints:\n",
    "You’ll need to use a double for the sum, and be sure you don’t use\n",
    "integer division for the individual terms. You’ll also need to switch\n",
    "between addition and subtraction. I can think of two ways (one\n",
    "using a variable that changes value and one using a conditional).\n",
    " \n",
    "__SAMPLE: 1/1 - 1/2 + 1/3 - 1/4 + 1/5.....___"
   ]
  },
  {
   "cell_type": "code",
   "execution_count": null,
   "metadata": {},
   "outputs": [],
   "source": [
    "# Write Your Program Here\n"
   ]
  },
  {
   "cell_type": "markdown",
   "metadata": {},
   "source": [
    "__2. Write the program that print the following tables using for loop__\n",
    "![title](img/table.png)"
   ]
  },
  {
   "cell_type": "code",
   "execution_count": null,
   "metadata": {},
   "outputs": [],
   "source": [
    "# Write Your Program Here\n"
   ]
  },
  {
   "cell_type": "markdown",
   "metadata": {},
   "source": [
    "input = [1, True, 'Michael', 2, 5, 8, 'a', 'b', False]\n",
    "3. Write a program to determine how may integers are in this list and print out the sum of these integer (Tips: Using the first Chapter knowledge)"
   ]
  },
  {
   "cell_type": "code",
   "execution_count": null,
   "metadata": {},
   "outputs": [],
   "source": [
    "# Write YOur Program Here"
   ]
  }
 ],
 "metadata": {
  "kernelspec": {
   "display_name": "Python 3",
   "language": "python",
   "name": "python3"
  },
  "language_info": {
   "codemirror_mode": {
    "name": "ipython",
    "version": 3
   },
   "file_extension": ".py",
   "mimetype": "text/x-python",
   "name": "python",
   "nbconvert_exporter": "python",
   "pygments_lexer": "ipython3",
   "version": "3.6.8"
  }
 },
 "nbformat": 4,
 "nbformat_minor": 2
}
