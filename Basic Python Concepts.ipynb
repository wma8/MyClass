{
 "cells": [
  {
   "cell_type": "markdown",
   "metadata": {},
   "source": [
    "# Python Concepts Review\n",
    "1. Our System will use Python3, and we can execute our program in this Jupyter Notebook Directly.\n",
    "\n",
    "2. This chapter is to review the basic Python skills we need for our courses. If you have any concern, please consult with me OR (The most important skills as a programmer) SEARCH!!!\n",
    "\n",
    "__Syntactic Format Reference Table (Compared with C++):__\n",
    "\n",
    "- ; == (end line)\n",
    "\n",
    "- {} == (indentation)\n",
    "\n",
    "- for (i = 0; i < 10; i++){} == for i in range(10):\n",
    "\n",
    "- if/while(x){} == if/while x:\n",
    "\n",
    "- int fun(){} == def fun():\n",
    "\n",
    "- #include == import\n",
    "\n",
    "- true/false = True/False\n",
    "\n",
    "- // == # \n",
    "\n",
    "- &&， ||， ！ == and, or, not(）\n",
    "\n",
    "- x++ == x=x+1"
   ]
  },
  {
   "cell_type": "markdown",
   "metadata": {},
   "source": [
    "## 1. Variable Types && Comments\n",
    "Python will guess the type when you define the variable.\n",
    "For example, if you set x = 2, then Python will make x an integer. If you set x = 2.0, Python will make it a float.\n",
    "\n",
    "__Python Common Datatypes__\n",
    "- Integers.\n",
    "- Floating-Point Numbers.\n",
    "- Complex Numbers.\n",
    "- Strings. Escape Sequences in Strings. Raw Strings. Triple-Quoted\n",
    "- Strings.\n",
    "- Boolean Type, Boolean Context, and “Truthiness”\n",
    "- Dict\n",
    "- List\n",
    "- etc"
   ]
  },
  {
   "cell_type": "code",
   "execution_count": 4,
   "metadata": {
    "scrolled": true
   },
   "outputs": [
    {
     "name": "stdout",
     "output_type": "stream",
     "text": [
      "<class 'int'>\n",
      "<class 'str'>\n"
     ]
    }
   ],
   "source": [
    "x = 1\n",
    "print(type(x))\n",
    "y = \"I love Python\"\n",
    "print(type(y))"
   ]
  },
  {
   "cell_type": "markdown",
   "metadata": {},
   "source": [
    "__Exercises: Predict the type of the following variables__\n",
    "\n",
    "- type(1.0)\n",
    "- type(\"My name is Weikun\")\n",
    "- type(True)"
   ]
  },
  {
   "cell_type": "code",
   "execution_count": 17,
   "metadata": {},
   "outputs": [
    {
     "name": "stdout",
     "output_type": "stream",
     "text": [
      "<class 'float'>\n",
      "<class 'str'>\n",
      "<class 'bool'>\n"
     ]
    }
   ],
   "source": [
    "# Solutions\n",
    "print(type(1.0))\n",
    "print(type(\"My name is Weikun\"))\n",
    "print(type(True))"
   ]
  },
  {
   "cell_type": "markdown",
   "metadata": {},
   "source": [
    "## Comment\n",
    "Commenting your code properly will help you and other understand and use it correctly."
   ]
  },
  {
   "cell_type": "code",
   "execution_count": 5,
   "metadata": {},
   "outputs": [
    {
     "name": "stdout",
     "output_type": "stream",
     "text": [
      "Before comment\n",
      "After comment\n"
     ]
    }
   ],
   "source": [
    "# Example, also this is a comment as well\n",
    "print('Before comment')  # this is an inline comment\n",
    "'''\n",
    "This is\n",
    "a multi-line\n",
    "comment\n",
    "'''\n",
    "print('After comment')"
   ]
  },
  {
   "cell_type": "markdown",
   "metadata": {},
   "source": [
    "## 2. Python Common Data Structure"
   ]
  },
  {
   "cell_type": "markdown",
   "metadata": {},
   "source": [
    "## Lists\n",
    "A [**`list`**](http://docs.python.org/2/tutorial/introduction.html#lists) is an ordered ***sequence*** of 0 or more comma-delimited elements enclosed within square brackets ('`[`', '`]`'). \n",
    "\n",
    "Examples:"
   ]
  },
  {
   "cell_type": "code",
   "execution_count": 12,
   "metadata": {},
   "outputs": [
    {
     "name": "stdout",
     "output_type": "stream",
     "text": [
      "[1, 2, 3, 4, 5, 6, 7, 8]\n",
      "[1, 3, 5, 7]\n",
      "[2, 4, 6, 8]\n",
      "[8, 7, 6, 5, 4, 3, 2, 1]\n",
      "[8, 7, 6]\n",
      "[1, 2, 3, 4, 5, 6]\n"
     ]
    }
   ],
   "source": [
    "s = [1,2,3,4,5,6,7,8]\n",
    "l = ['a','b','c','d','e']\n",
    "print(s)\n",
    "# Following Methods are Not Required to Know\n",
    "print(s[::2])  # print elements in even-numbered positions\n",
    "print(s[1::2])  # print elements in odd-numbered positions\n",
    "print(s[::-1])  # print elements in reverse order\n",
    "print(s[:-4:-1])\n",
    "\n",
    "# Make a list within (1, 7) use list function\n",
    "s2 = list_of_ints = list(range(1,7)) \n",
    "print(s2)"
   ]
  },
  {
   "cell_type": "markdown",
   "metadata": {},
   "source": [
    "__Exercise:__\n",
    "\n",
    "Predict and check the output of the following, assuming that  𝚜 = ['𝚊','𝚋','𝚌','𝚍','𝚎'] + ['𝚏','𝚐']  has been executed. Which of the following will produce different output from the previous exercise, and what will it be?\n",
    "\n",
    "-  print s[0]\n",
    "-  print s[6]\n",
    "-  print s[7]\n",
    "-  print s[-1]\n",
    "-  print s[1:3]\n",
    "-  print s[:3]\n",
    "-  print s[3:]\n",
    "-  print s[0:-2]\n",
    "-  print s[0:100]\n",
    "-  s[0] = 'z'\n",
    "-  s[0:3] = ['x','y','z']\n",
    "-  print(len(s))"
   ]
  },
  {
   "cell_type": "code",
   "execution_count": 19,
   "metadata": {
    "scrolled": true
   },
   "outputs": [
    {
     "name": "stdout",
     "output_type": "stream",
     "text": [
      "['a', 'b', 'c', 'd', 'e', 'f', 'g']\n",
      "[100, 'b', 'c', 'd', 'e', 'f', 'g']\n",
      "<class 'int'>\n",
      "['x', 'y', 'z', 'd', 'e', 'f', 'g']\n",
      "['x', 'y', 'z', 's', 'e', 'e', 'd', 'e', 'f', 'g']\n"
     ]
    }
   ],
   "source": [
    "# Solutions\n",
    "s = ['a','b','c','d','e']+['f','g']\n",
    "print(s)\n",
    "s[0]=100\n",
    "print(s)\n",
    "print(type(s[0]))\n",
    "s[0:3]=['x','y','z']\n",
    "print(s)\n",
    "# the assignment of element does not have to match the size\n",
    "s[0:3]=['x','y','z','s','e','e'] #note the effect of this: replace the elements within range, \n",
    "#concatenate the rest elements after it\n",
    "print(s)"
   ]
  },
  {
   "cell_type": "markdown",
   "metadata": {},
   "source": [
    "Lists may also have lists as their elements:\n",
    "Additional Examples:"
   ]
  },
  {
   "cell_type": "code",
   "execution_count": null,
   "metadata": {},
   "outputs": [],
   "source": [
    "K=[[1,2],[3,4,5],'s']\n",
    "print K[0][1] # like index of 2d array in C++\n",
    "print K[0][:]\n",
    "print K[1]\n",
    "print K[2]"
   ]
  },
  {
   "cell_type": "markdown",
   "metadata": {},
   "source": [
    "__List Related Methods__\n",
    "- Remove\n",
    "- Pop\n",
    "- Append\n",
    "- Insert\n",
    "- sort\n",
    "\n",
    "__Examples:__\n"
   ]
  },
  {
   "cell_type": "code",
   "execution_count": 20,
   "metadata": {},
   "outputs": [
    {
     "name": "stdout",
     "output_type": "stream",
     "text": [
      "list_1: [1, 2, 3, 5, 1]\n",
      "list_2: [1, 2, 3, 5, 1]\n",
      "list_1.remove(1):    [2, 3, 5, 1]\n",
      "list_1.pop(2):       [2, 3, 1]\n",
      "list_1.append(6):    [2, 3, 1, 6]\n",
      "list_1.insert(0, 7): [7, 2, 3, 1, 6]\n",
      "list_1.sort():       [1, 2, 3, 6, 7]\n",
      "list_1.reverse():    [7, 6, 3, 2, 1]\n"
     ]
    }
   ],
   "source": [
    "list_1 = [1, 2, 3, 5, 1]\n",
    "# list_2 now references the same object as list_1\n",
    "list_2 = list_1  \n",
    "\n",
    "print('list_1:', list_1)\n",
    "print('list_2:', list_2)\n",
    "\n",
    "# remove [only] the first occurrence of 1 in list_1\n",
    "list_1.remove(1) \n",
    "print('list_1.remove(1):   ', list_1)\n",
    "\n",
    "# remove the element in position 2\n",
    "list_1.pop(2)  \n",
    "print('list_1.pop(2):      ', list_1)\n",
    "\n",
    "# add 6 to the end of list_1\n",
    "list_1.append(6)  \n",
    "print('list_1.append(6):   ', list_1)\n",
    "\n",
    "# add 7 to the beinning of list_1 (before the element in position 0)\n",
    "list_1.insert(0, 7)  \n",
    "print('list_1.insert(0, 7):', list_1)\n",
    "\n",
    "list_1.sort()\n",
    "print('list_1.sort():      ', list_1)\n",
    "\n",
    "list_1.reverse()\n",
    "print('list_1.reverse():   ', list_1)"
   ]
  },
  {
   "cell_type": "markdown",
   "metadata": {},
   "source": [
    "## Dictionary\n",
    "A dictionary is a set of __keys__ each pointing to a __value__. The list of keys is unique (keys may only point to one value), but values may be reused.\n",
    "__usage__:\n",
    "Dictionary is essential for Web crawler（网络爬虫), so it is __very important__ to master."
   ]
  },
  {
   "cell_type": "markdown",
   "metadata": {},
   "source": [
    "__Examples__:\n",
    "d1 = {1:'Apple', 2:'Banana', 3: 'Apple'}\n",
    "d2 = {1:2, 3:4, 5:6, 7:8}\n",
    "d3 = {'P':'Python', 'J':'JAVA', 'C': 'C plus plus'}"
   ]
  },
  {
   "cell_type": "code",
   "execution_count": 21,
   "metadata": {},
   "outputs": [
    {
     "name": "stdout",
     "output_type": "stream",
     "text": [
      "Apple\n",
      "4\n",
      "Python\n"
     ]
    }
   ],
   "source": [
    "d1 = {1:'Apple', 2:'Banana', 3: 'Apple'}\n",
    "d2 = {1:2, 3:4, 5:6, 7:8}\n",
    "d3 = {'P':'Python', 'J':'JAVA', 'C': 'C plus plus'}\n",
    "\n",
    "## Index should be the key of the dict\n",
    "print(d1[1])\n",
    "print(d2[3])\n",
    "print(d3['P'])"
   ]
  },
  {
   "cell_type": "markdown",
   "metadata": {},
   "source": [
    "You can also initialize an empty dict and assign values with keys"
   ]
  },
  {
   "cell_type": "code",
   "execution_count": 22,
   "metadata": {},
   "outputs": [
    {
     "name": "stdout",
     "output_type": "stream",
     "text": [
      "<class 'dict'>\n",
      "{'A': 'apple', 'B': [1, 2, 3], 'C': {2: 1, 3: 4}}\n"
     ]
    }
   ],
   "source": [
    "d3 = {}\n",
    "d3 =(dict()) # the same expression\n",
    "print(type(d3))\n",
    "d3['A']='apple'\n",
    "d3['B'] = [1,2,3]\n",
    "d3['C'] = {2:1, 3:4}\n",
    "print(d3)"
   ]
  },
  {
   "cell_type": "code",
   "execution_count": 24,
   "metadata": {
    "scrolled": true
   },
   "outputs": [
    {
     "data": {
      "text/plain": [
       "dict_items([('A', 'apple'), ('B', [1, 2, 3]), ('C', {2: 1, 3: 4})])"
      ]
     },
     "execution_count": 24,
     "metadata": {},
     "output_type": "execute_result"
    }
   ],
   "source": [
    "d4 = {'A': 'apple', 'B': [1, 2, 3], 'C': {2: 1, 3: 4}}\n",
    "# You can also use Method --> items() to print all the elements\n",
    "d4.items()"
   ]
  },
  {
   "cell_type": "markdown",
   "metadata": {},
   "source": [
    "# 3. Conditions and Looping"
   ]
  },
  {
   "cell_type": "code",
   "execution_count": null,
   "metadata": {},
   "outputs": [],
   "source": []
  },
  {
   "cell_type": "markdown",
   "metadata": {},
   "source": [
    "# 4. Functions"
   ]
  },
  {
   "cell_type": "markdown",
   "metadata": {},
   "source": [
    "A __function__ is a block of code which only runs when it is called.You can pass data, known as parameters, into a function.A function can return data as a result."
   ]
  },
  {
   "cell_type": "markdown",
   "metadata": {},
   "source": [
    "In Python a function is defined using the __def__ keyword:\n",
    "__example__:\n",
    "def my_function():\n",
    "  print(\"Hello from a function\")"
   ]
  },
  {
   "cell_type": "code",
   "execution_count": 25,
   "metadata": {},
   "outputs": [
    {
     "name": "stdout",
     "output_type": "stream",
     "text": [
      "3\n"
     ]
    }
   ],
   "source": [
    "# Example: Lets make a function called nplusone (n + 1)\n",
    "def nplusone(n):\n",
    "    m=n+1\n",
    "    return m\n",
    "\n",
    "# We can use function nplusone to add 1 to 2\n",
    "a = nplusone(2)\n",
    "print(a)"
   ]
  }
 ],
 "metadata": {
  "kernelspec": {
   "display_name": "Python 3",
   "language": "python",
   "name": "python3"
  },
  "language_info": {
   "codemirror_mode": {
    "name": "ipython",
    "version": 3
   },
   "file_extension": ".py",
   "mimetype": "text/x-python",
   "name": "python",
   "nbconvert_exporter": "python",
   "pygments_lexer": "ipython3",
   "version": "3.6.8"
  }
 },
 "nbformat": 4,
 "nbformat_minor": 2
}
