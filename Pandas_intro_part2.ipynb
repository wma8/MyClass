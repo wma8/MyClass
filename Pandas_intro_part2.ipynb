{
 "cells": [
  {
   "cell_type": "markdown",
   "metadata": {},
   "source": [
    "## Topics\n",
    "## Indexing, selecting, assigning reference\n",
    "\n",
    "As we process our datasets, we need to do a number of things that modify our datasets to fit our needs."
   ]
  },
  {
   "cell_type": "code",
   "execution_count": 1,
   "metadata": {},
   "outputs": [
    {
     "name": "stdout",
     "output_type": "stream",
     "text": [
      "Populating the interactive namespace from numpy and matplotlib\n"
     ]
    },
    {
     "data": {
      "text/html": [
       "<div>\n",
       "<style scoped>\n",
       "    .dataframe tbody tr th:only-of-type {\n",
       "        vertical-align: middle;\n",
       "    }\n",
       "\n",
       "    .dataframe tbody tr th {\n",
       "        vertical-align: top;\n",
       "    }\n",
       "\n",
       "    .dataframe thead th {\n",
       "        text-align: right;\n",
       "    }\n",
       "</style>\n",
       "<table border=\"1\" class=\"dataframe\">\n",
       "  <thead>\n",
       "    <tr style=\"text-align: right;\">\n",
       "      <th></th>\n",
       "      <th>language</th>\n",
       "      <th>science</th>\n",
       "      <th>maths</th>\n",
       "      <th>history</th>\n",
       "    </tr>\n",
       "  </thead>\n",
       "  <tbody>\n",
       "    <tr>\n",
       "      <th>count</th>\n",
       "      <td>7.000000</td>\n",
       "      <td>7.000000</td>\n",
       "      <td>7.000000</td>\n",
       "      <td>7.000000</td>\n",
       "    </tr>\n",
       "    <tr>\n",
       "      <th>mean</th>\n",
       "      <td>54.285714</td>\n",
       "      <td>53.000000</td>\n",
       "      <td>43.285714</td>\n",
       "      <td>42.857143</td>\n",
       "    </tr>\n",
       "    <tr>\n",
       "      <th>std</th>\n",
       "      <td>35.523299</td>\n",
       "      <td>22.015146</td>\n",
       "      <td>23.746679</td>\n",
       "      <td>17.062909</td>\n",
       "    </tr>\n",
       "    <tr>\n",
       "      <th>min</th>\n",
       "      <td>10.000000</td>\n",
       "      <td>23.000000</td>\n",
       "      <td>12.000000</td>\n",
       "      <td>23.000000</td>\n",
       "    </tr>\n",
       "    <tr>\n",
       "      <th>25%</th>\n",
       "      <td>25.000000</td>\n",
       "      <td>39.500000</td>\n",
       "      <td>33.000000</td>\n",
       "      <td>33.000000</td>\n",
       "    </tr>\n",
       "    <tr>\n",
       "      <th>50%</th>\n",
       "      <td>50.000000</td>\n",
       "      <td>56.000000</td>\n",
       "      <td>45.000000</td>\n",
       "      <td>34.000000</td>\n",
       "    </tr>\n",
       "    <tr>\n",
       "      <th>75%</th>\n",
       "      <td>90.000000</td>\n",
       "      <td>61.500000</td>\n",
       "      <td>45.000000</td>\n",
       "      <td>55.000000</td>\n",
       "    </tr>\n",
       "    <tr>\n",
       "      <th>max</th>\n",
       "      <td>90.000000</td>\n",
       "      <td>90.000000</td>\n",
       "      <td>90.000000</td>\n",
       "      <td>67.000000</td>\n",
       "    </tr>\n",
       "  </tbody>\n",
       "</table>\n",
       "</div>"
      ],
      "text/plain": [
       "        language    science      maths    history\n",
       "count   7.000000   7.000000   7.000000   7.000000\n",
       "mean   54.285714  53.000000  43.285714  42.857143\n",
       "std    35.523299  22.015146  23.746679  17.062909\n",
       "min    10.000000  23.000000  12.000000  23.000000\n",
       "25%    25.000000  39.500000  33.000000  33.000000\n",
       "50%    50.000000  56.000000  45.000000  34.000000\n",
       "75%    90.000000  61.500000  45.000000  55.000000\n",
       "max    90.000000  90.000000  90.000000  67.000000"
      ]
     },
     "execution_count": 1,
     "metadata": {},
     "output_type": "execute_result"
    }
   ],
   "source": [
    "# Before Everything, we need to first import the modules we need!!\n",
    "# import the module first\n",
    "import pandas as pd\n",
    "import matplotlib.pyplot as plt\n",
    "%pylab inline\n",
    "\n",
    "# Read the dataset we need, the student grade info\n",
    "student_grade = pd.read_csv(\"/home/weikunma/Desktop/jupyter/MyClass/Datasets/abc.csv\")\n",
    "student_grade.describe()"
   ]
  },
  {
   "cell_type": "markdown",
   "metadata": {},
   "source": [
    "## 1. Indexing\n",
    "In Python we can access the property as object, for our data, we can access the dataset simply by call data.column"
   ]
  },
  {
   "cell_type": "code",
   "execution_count": 2,
   "metadata": {},
   "outputs": [
    {
     "name": "stdout",
     "output_type": "stream",
     "text": [
      "0     kumar\n",
      "1     kevin\n",
      "2     sammy\n",
      "3    janice\n",
      "4     peter\n",
      "5      prem\n",
      "6    carrol\n",
      "Name: student, dtype: object\n",
      "---------------------------\n",
      "kumar\n"
     ]
    }
   ],
   "source": [
    "# Print out the specific column by using the following 2 methods\n",
    "student_grade.student # Specify the column name\n",
    "# Or\n",
    "print(student_grade['student'])\n",
    "\n",
    "# You can specify the row as well\n",
    "print('---------------------------')\n",
    "print(student_grade['student'][0])"
   ]
  },
  {
   "cell_type": "markdown",
   "metadata": {},
   "source": [
    "## index-based selection\n",
    "We can choose the row by using __iloc__ method()\n",
    "This is a __column-first, row-second__ selection method.\n",
    "\n",
    "[:] key word can determine the range.\n",
    "Let's do an example!\n",
    "\n",
    "iloc[:3, 0]"
   ]
  },
  {
   "cell_type": "code",
   "execution_count": 3,
   "metadata": {},
   "outputs": [
    {
     "name": "stdout",
     "output_type": "stream",
     "text": [
      "student     kumar\n",
      "language       90\n",
      "science        56\n",
      "maths          34\n",
      "history        34\n",
      "Name: 0, dtype: object\n",
      "---------------------------\n",
      "0     kumar\n",
      "1     kevin\n",
      "2     sammy\n",
      "3    janice\n",
      "4     peter\n",
      "5      prem\n",
      "6    carrol\n",
      "Name: student, dtype: object\n",
      "---------------------------\n",
      "0    kumar\n",
      "1    kevin\n",
      "2    sammy\n",
      "Name: student, dtype: object\n",
      "---------------------------\n",
      "  student  language  science  maths  history\n",
      "2   sammy        90       23     12       32\n",
      "3  janice        20       67     90       45\n",
      "4   peter        30       56     45       65\n",
      "5    prem        90       45     45       34\n",
      "6  carrol        50       90     45       23\n"
     ]
    }
   ],
   "source": [
    "# Example, lets find the first column of the dataset\n",
    "print(student_grade.iloc[0])\n",
    "# Find the dataset with first COLUMN\n",
    "print(\"---------------------------\")\n",
    "print(student_grade.iloc[:, 0])\n",
    "print(\"---------------------------\")\n",
    "# You can also find the first 3 rows's first column\n",
    "print(student_grade.iloc[:3, 0])\n",
    "# You can find the last 5 elements\n",
    "print(\"---------------------------\")\n",
    "print(student_grade.iloc[-5:])"
   ]
  },
  {
   "cell_type": "markdown",
   "metadata": {},
   "source": [
    "## Label-based selection\n",
    "You can use Method loc() to locate the element based on the __label__.\n",
    "\n",
    "Let's do a simply example"
   ]
  },
  {
   "cell_type": "code",
   "execution_count": 4,
   "metadata": {},
   "outputs": [
    {
     "name": "stdout",
     "output_type": "stream",
     "text": [
      "kumar ---> the  first student's name is kumar\n",
      "----------------------------\n",
      "student     kumar\n",
      "language       90\n",
      "science        56\n",
      "Name: 0, dtype: object\n"
     ]
    }
   ],
   "source": [
    "# Let's see the first row of the science column\n",
    "print(student_grade.loc[0, 'student'], \"---> the  first student's name is kumar\")\n",
    "print(\"----------------------------\")\n",
    "# You can use list to find multiple data rows\n",
    "print(student_grade.loc[0, ['student', 'language', 'science']])"
   ]
  },
  {
   "cell_type": "markdown",
   "metadata": {},
   "source": [
    "## Conditional  Selection\n",
    "So far we've been indexing various strides of data, using structural properties of the DataFrame itself. To do interesting things with the data. however, we often need to ask questions based on __conditions__.\n",
    "\n",
    "Again, let's start with an example"
   ]
  },
  {
   "cell_type": "code",
   "execution_count": 5,
   "metadata": {},
   "outputs": [
    {
     "name": "stdout",
     "output_type": "stream",
     "text": [
      "  student  language  science  maths  history\n",
      "2   sammy        90       23     12       32\n"
     ]
    }
   ],
   "source": [
    "# What if we want to find out the info of sammy?\n",
    "# In [], we use condition statement to define the condition\n",
    "print(student_grade.loc[student_grade.student == 'sammy'])"
   ]
  },
  {
   "cell_type": "code",
   "execution_count": 6,
   "metadata": {},
   "outputs": [
    {
     "name": "stdout",
     "output_type": "stream",
     "text": [
      "  student  language  science  maths  history\n",
      "0   kumar        90       56     34       34\n",
      "1   kevin        10       34     32       67\n",
      "3  janice        20       67     90       45\n",
      "4   peter        30       56     45       65\n",
      "5    prem        90       45     45       34\n",
      "6  carrol        50       90     45       23\n"
     ]
    }
   ],
   "source": [
    "# What if you want to find the student with math grade > 10\n",
    "# and science > 30 ?\n",
    "print(student_grade.loc[(student_grade.maths > 10) & (student_grade.science > 30)])"
   ]
  },
  {
   "cell_type": "code",
   "execution_count": 7,
   "metadata": {},
   "outputs": [
    {
     "data": {
      "text/html": [
       "<div>\n",
       "<style scoped>\n",
       "    .dataframe tbody tr th:only-of-type {\n",
       "        vertical-align: middle;\n",
       "    }\n",
       "\n",
       "    .dataframe tbody tr th {\n",
       "        vertical-align: top;\n",
       "    }\n",
       "\n",
       "    .dataframe thead th {\n",
       "        text-align: right;\n",
       "    }\n",
       "</style>\n",
       "<table border=\"1\" class=\"dataframe\">\n",
       "  <thead>\n",
       "    <tr style=\"text-align: right;\">\n",
       "      <th></th>\n",
       "      <th>student</th>\n",
       "      <th>language</th>\n",
       "      <th>science</th>\n",
       "      <th>maths</th>\n",
       "      <th>history</th>\n",
       "    </tr>\n",
       "  </thead>\n",
       "  <tbody>\n",
       "    <tr>\n",
       "      <th>1</th>\n",
       "      <td>kevin</td>\n",
       "      <td>10</td>\n",
       "      <td>34</td>\n",
       "      <td>32</td>\n",
       "      <td>67</td>\n",
       "    </tr>\n",
       "    <tr>\n",
       "      <th>6</th>\n",
       "      <td>carrol</td>\n",
       "      <td>50</td>\n",
       "      <td>90</td>\n",
       "      <td>45</td>\n",
       "      <td>23</td>\n",
       "    </tr>\n",
       "  </tbody>\n",
       "</table>\n",
       "</div>"
      ],
      "text/plain": [
       "  student  language  science  maths  history\n",
       "1   kevin        10       34     32       67\n",
       "6  carrol        50       90     45       23"
      ]
     },
     "execution_count": 7,
     "metadata": {},
     "output_type": "execute_result"
    }
   ],
   "source": [
    "# You can even define your column values with a list.\n",
    "# Example, \n",
    "student_grade.loc[student_grade.language.isin([10, 50])]"
   ]
  },
  {
   "cell_type": "markdown",
   "metadata": {},
   "source": [
    "## Assigning Data"
   ]
  },
  {
   "cell_type": "code",
   "execution_count": 10,
   "metadata": {},
   "outputs": [
    {
     "name": "stdout",
     "output_type": "stream",
     "text": [
      "  student  language  science  maths  history  hisory\n",
      "0   kumar        90       56     34       34       0\n",
      "1   kevin        10       34     32       67       0\n",
      "2   sammy        90       23     12       32       0\n",
      "3  janice        20       67     90       45       0\n",
      "4   peter        30       56     45       65       0\n",
      "5    prem        90       45     45       34       0\n",
      "6  carrol        50       90     45       23       0\n"
     ]
    }
   ],
   "source": [
    "# You can assign values with constant like the following\n",
    "temp_data = student_grade.copy()\n",
    "# Assigning the history score all to 0\n",
    "temp_data['hisory'] = 0\n",
    "print(temp_data.head(3))\n",
    "# Or you can assign the values in iterable ways\n"
   ]
  }
 ],
 "metadata": {
  "kernelspec": {
   "display_name": "Python 3",
   "language": "python",
   "name": "python3"
  },
  "language_info": {
   "codemirror_mode": {
    "name": "ipython",
    "version": 3
   },
   "file_extension": ".py",
   "mimetype": "text/x-python",
   "name": "python",
   "nbconvert_exporter": "python",
   "pygments_lexer": "ipython3",
   "version": "3.6.8"
  }
 },
 "nbformat": 4,
 "nbformat_minor": 2
}
