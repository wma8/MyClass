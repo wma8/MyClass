{
 "cells": [
  {
   "cell_type": "markdown",
   "metadata": {},
   "source": [
    "# 4. Python Environment Setup\n",
    "- Setup environment (Depend on your system)\n",
    "- How to use MODULE\n",
    "- Jupyter Notebook\n",
    "- Important Package you need for Data Analysis and Web Crawler\n",
    "\n",
    "I will provide some online tutorials for you."
   ]
  },
  {
   "cell_type": "markdown",
   "metadata": {},
   "source": [
    "__Setup the environment:__\n",
    "Pycharm is one of the most popular IDE python developer use:\n",
    "[Download Here](https://www.jetbrains.com/pycharm/)\n",
    "(You can just download the community version)\n",
    "\n",
    "__Create Project:__\n",
    "![title](img/create_project.jpg)"
   ]
  },
  {
   "cell_type": "markdown",
   "metadata": {},
   "source": [
    "## Modules\n",
    "A module allows you to logically organize your Python code. Grouping related code into a module makes the code easier to understand and use.\n",
    "\n",
    "In short, by importing modules and packages, you can use many functionalities directly for your own purposes.\n",
    "\n",
    "__In order to use packages__, you have to __import__ desired packages first.\n",
    "\n",
    "You can import packages in pycharm in __setting__ by:\n",
    "![title](img/package.png)\n",
    "\n",
    "__simply__ add the packages by search names."
   ]
  },
  {
   "cell_type": "markdown",
   "metadata": {},
   "source": [
    "## Import modules\n",
    "After you have the modules in the __environment__, you need to import the module in you python files."
   ]
  },
  {
   "cell_type": "code",
   "execution_count": 5,
   "metadata": {},
   "outputs": [
    {
     "name": "stdout",
     "output_type": "stream",
     "text": [
      "10.0\n"
     ]
    }
   ],
   "source": [
    "#Example\n",
    "import math # import the library\n",
    "\n",
    "print(math.sqrt(100))# get square root of 100"
   ]
  },
  {
   "cell_type": "markdown",
   "metadata": {},
   "source": [
    "## Install Jupyter Notebook\n",
    "It is the thing you are using now.\n",
    "It is extremely useful for data analysis and machine learning. Which can manage your codes and diagram easily.\n",
    "__(This is not required by highly recommended)__"
   ]
  },
  {
   "cell_type": "markdown",
   "metadata": {},
   "source": [
    "[Tutorial:](https://www.youtube.com/watch?v=qRixkfuYp88)"
   ]
  },
  {
   "cell_type": "markdown",
   "metadata": {},
   "source": [
    "## Useful package\n",
    "(Data Analysis)\n",
    "- pandas\n",
    "- NumPy\n",
    "- Matplotlib\n",
    "- scikit-learn\n",
    "(Web Scraping)\n",
    "- Requests\n",
    "- BeautifulSoup\n",
    "- Selenium\n",
    "- etc \n",
    "You can explore if you have time"
   ]
  },
  {
   "cell_type": "markdown",
   "metadata": {},
   "source": [
    "# 5. Functions"
   ]
  },
  {
   "cell_type": "markdown",
   "metadata": {},
   "source": [
    "A __function__ is a block of code which only runs when it is called.You can pass data, known as parameters, into a function.A function can return data as a result.\n",
    "\n",
    "In Python a function is defined using the __def__ keyword:\n",
    "__example__:\n",
    "def my_function():\n",
    "  print(\"Hello from a function\")\n",
    "  \n",
    "Reading material: [Python tutorial](https://docs.python.org/2/tutorial/) 4.1 - 4.7"
   ]
  },
  {
   "cell_type": "markdown",
   "metadata": {},
   "source": [
    "## Passing arguments to functions\n",
    "Python uses a mechanism known as \"call-by-object\". \n",
    "\n",
    "If you pass immutable arguments like integers, strings or tuples to a function, the passing acts like pass-by-value. They can't be changed within the function, because they can't be changed at all, i.e. they are immutable. \n",
    "\n",
    "In the following example, we use the __id__ function. __id(obj)__ returns the \"identity\" of the object, which is __unique__ and __constant__ for the object during its lifetime."
   ]
  },
  {
   "cell_type": "code",
   "execution_count": 3,
   "metadata": {},
   "outputs": [
    {
     "name": "stdout",
     "output_type": "stream",
     "text": [
      "140453303296584\n",
      "140453303296584\n"
     ]
    }
   ],
   "source": [
    "# Example: use default id method to print the address\n",
    "a =1\n",
    "id(a) # to get the address of a\n",
    "L = [1,2,3]\n",
    "L2 = L\n",
    "print(id(L))\n",
    "print (id(L2)) #note the two Ls refer to the same object"
   ]
  },
  {
   "cell_type": "code",
   "execution_count": null,
   "metadata": {},
   "outputs": [],
   "source": [
    "# Example: Lets make a function called nplusone (n + 1)\n",
    "def nplusone(n):\n",
    "    m=n+1\n",
    "    return m\n",
    "\n",
    "# We can use function nplusone to add 1 to 2\n",
    "a = nplusone(2)\n",
    "print(a)"
   ]
  },
  {
   "cell_type": "markdown",
   "metadata": {},
   "source": [
    "## Homework"
   ]
  },
  {
   "cell_type": "markdown",
   "metadata": {},
   "source": [
    "1. Write a function largerIndex(c) that takes as input a list c of numbers, and returns a new list k, such that k[i]=1 if c[i]>i, k[i] = 0 if c[i]=i, k[i] = -1 if c[i]<i."
   ]
  },
  {
   "cell_type": "code",
   "execution_count": null,
   "metadata": {},
   "outputs": [],
   "source": [
    "# Write Your Code Here"
   ]
  },
  {
   "cell_type": "markdown",
   "metadata": {},
   "source": [
    "2. Write a function squareUpTo(n) that takes as input a positive integer n, and returns a list of all the square numbers up to (and possibly including) n."
   ]
  },
  {
   "cell_type": "code",
   "execution_count": null,
   "metadata": {},
   "outputs": [],
   "source": [
    "# Write Your Code Here"
   ]
  },
  {
   "cell_type": "markdown",
   "metadata": {},
   "source": [
    "3. Write a function flip1in3() that uses only fair coins to generate a biased coin with success probability 1/3."
   ]
  },
  {
   "cell_type": "code",
   "execution_count": null,
   "metadata": {},
   "outputs": [],
   "source": [
    "# Write Your Code Here"
   ]
  },
  {
   "cell_type": "markdown",
   "metadata": {},
   "source": [
    "4. Write a function duplicates(c) that takes as input a list c of integers, where 1 <=c[i] <= n (n is size of list). Some elements appear twice and others appear once. The function outputs all the elements as a list that appear twice in the list c. The elements in the output should preserve the original order."
   ]
  },
  {
   "cell_type": "code",
   "execution_count": null,
   "metadata": {},
   "outputs": [],
   "source": [
    "# Write Your Code Here"
   ]
  },
  {
   "cell_type": "markdown",
   "metadata": {},
   "source": [
    "5. Write a function longestpath(d) that finds the length of a longest path, (a : b) → (b : c) → · · · , in a dictionary d. It counts each pointer from a key to a value as one step. For example, the path (a : b) → (b : c) has length 2. To avoid cycles, we do not allow any key to appear more than once in a path (as a key)."
   ]
  },
  {
   "cell_type": "code",
   "execution_count": null,
   "metadata": {},
   "outputs": [],
   "source": [
    "# Write Your Code Here"
   ]
  }
 ],
 "metadata": {
  "kernelspec": {
   "display_name": "Python 3",
   "language": "python",
   "name": "python3"
  },
  "language_info": {
   "codemirror_mode": {
    "name": "ipython",
    "version": 3
   },
   "file_extension": ".py",
   "mimetype": "text/x-python",
   "name": "python",
   "nbconvert_exporter": "python",
   "pygments_lexer": "ipython3",
   "version": "3.6.8"
  }
 },
 "nbformat": 4,
 "nbformat_minor": 2
}
