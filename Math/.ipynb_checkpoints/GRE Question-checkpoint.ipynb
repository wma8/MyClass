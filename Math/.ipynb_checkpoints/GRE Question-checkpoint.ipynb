{
 "cells": [
  {
   "cell_type": "markdown",
   "metadata": {},
   "source": [
    "## P6:\n",
    "6. In the xy-plane, line k is a line that does not pass through the origin.\n",
    "Which of the following statements individually provide(s) sufficient additional information to\n",
    "determine whether the slope of line k is negative?\n",
    "Indicate all such statements.\n",
    "A. The x-intercept of line k is twice the y-intercept of line k.\n",
    "B. The product of the x-intercept and the y-intercept of line k is positive.\n",
    "C. Line k passes through the points (a, b) and (r, s), where (a-r)(b-s) < 0.\n",
    "\n",
    "__Answer__: abc\n",
    "\n",
    "__Analysis__: "
   ]
  }
 ],
 "metadata": {
  "kernelspec": {
   "display_name": "Python 3",
   "language": "python",
   "name": "python3"
  },
  "language_info": {
   "codemirror_mode": {
    "name": "ipython",
    "version": 3
   },
   "file_extension": ".py",
   "mimetype": "text/x-python",
   "name": "python",
   "nbconvert_exporter": "python",
   "pygments_lexer": "ipython3",
   "version": "3.6.8"
  }
 },
 "nbformat": 4,
 "nbformat_minor": 2
}
